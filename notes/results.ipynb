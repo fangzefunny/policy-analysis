{
 "cells": [
  {
   "cell_type": "code",
   "execution_count": 1,
   "metadata": {},
   "outputs": [],
   "source": [
    "import numpy as np \n",
    "import pandas as pd \n",
    "from scipy.stats import gamma, norm\n",
    "\n",
    "# visualizatioion pkg \n",
    "import seaborn as sns \n",
    "import matplotlib.pyplot as plt \n",
    "%matplotlib inline\n",
    "%config InlineBackend.figure_format='retina'\n",
    "\n",
    "import sys \n",
    "sys.path.append(\"..\") \n",
    "from utils.analyze import * \n",
    "from utils.viz import viz\n",
    "from m3_visualize import *\n",
    "viz.get_style()"
   ]
  },
  {
   "cell_type": "code",
   "execution_count": 2,
   "metadata": {},
   "outputs": [
    {
     "name": "stdout",
     "output_type": "stream",
     "text": [
      "#-------- Clean Outliers ---------- #\n",
      "\n",
      "    304 rows\n",
      "    89.4% data has been retained\n",
      "\n",
      "# ------------------ l1 ----------------- #\n",
      "                            Source       SS     DF      MS       F  p-unc  \\\n",
      "0                           is_PAT   40.989    1.0  40.989  20.344  0.000   \n",
      "1                           b_type    0.000    1.0   0.000   0.000  1.000   \n",
      "2                    feedback_type    0.015    1.0   0.015   0.007  0.932   \n",
      "3                  is_PAT * b_type    0.000    1.0   0.000   0.000  1.000   \n",
      "4           is_PAT * feedback_type    0.057    1.0   0.057   0.029  0.866   \n",
      "5           b_type * feedback_type    0.000    1.0   0.000   0.000  1.000   \n",
      "6  is_PAT * b_type * feedback_type    0.000    1.0   0.000   0.000  1.000   \n",
      "7                         Residual  596.373  296.0   2.015     NaN    NaN   \n",
      "\n",
      "     np2  \n",
      "0  0.064  \n",
      "1  0.000  \n",
      "2  0.000  \n",
      "3  0.000  \n",
      "4  0.000  \n",
      "5  0.000  \n",
      "6  0.000  \n",
      "7    NaN  \n",
      "\n",
      "# ------------------ l2 ----------------- #\n",
      "                            Source       SS     DF       MS       F  p-unc  \\\n",
      "0                           is_PAT  158.529    1.0  158.529  48.975  0.000   \n",
      "1                           b_type    0.000    1.0    0.000   0.000  1.000   \n",
      "2                    feedback_type    0.147    1.0    0.147   0.045  0.831   \n",
      "3                  is_PAT * b_type    0.000    1.0    0.000   0.000  1.000   \n",
      "4           is_PAT * feedback_type    0.361    1.0    0.361   0.112  0.739   \n",
      "5           b_type * feedback_type    0.000    1.0    0.000   0.000  1.000   \n",
      "6  is_PAT * b_type * feedback_type    0.000    1.0    0.000   0.000  1.000   \n",
      "7                         Residual  958.135  296.0    3.237     NaN    NaN   \n",
      "\n",
      "     np2  \n",
      "0  0.142  \n",
      "1  0.000  \n",
      "2  0.000  \n",
      "3  0.000  \n",
      "4  0.000  \n",
      "5  0.000  \n",
      "6  0.000  \n",
      "7    NaN  \n",
      "\n",
      "# ------------------ l3 ----------------- #\n",
      "                            Source       SS     DF      MS       F  p-unc  \\\n",
      "0                           is_PAT   38.297    1.0  38.297  32.500  0.000   \n",
      "1                           b_type    0.000    1.0   0.000   0.000  1.000   \n",
      "2                    feedback_type    0.069    1.0   0.069   0.059  0.809   \n",
      "3                  is_PAT * b_type    0.000    1.0   0.000   0.000  1.000   \n",
      "4           is_PAT * feedback_type    0.131    1.0   0.131   0.111  0.739   \n",
      "5           b_type * feedback_type    0.000    1.0   0.000   0.000  1.000   \n",
      "6  is_PAT * b_type * feedback_type    0.000    1.0   0.000   0.000  1.000   \n",
      "7                         Residual  348.790  296.0   1.178     NaN    NaN   \n",
      "\n",
      "     np2  \n",
      "0  0.099  \n",
      "1  0.000  \n",
      "2  0.000  \n",
      "3  0.000  \n",
      "4  0.000  \n",
      "5  0.000  \n",
      "6  0.000  \n",
      "7    NaN  \n"
     ]
    }
   ],
   "source": [
    "data = build_pivot_table('bms', agent='MOS_fix', min_q=.01, max_q=.99)\n",
    "tars = ['l1', 'l2', 'l3']\n",
    "data['is_PAT'] = data['group'].apply(lambda x: x!='HC')\n",
    "data = data.groupby(by=['sub_id', 'is_PAT', 'b_type', 'feedback_type']\n",
    "                )[tars].mean().reset_index()\n",
    "for i, t in enumerate(tars):\n",
    "    print(f'\\n# ------------------ {t} ----------------- #')\n",
    "    print(pg.anova(dv=t, between=['is_PAT', 'b_type', \n",
    "                'feedback_type'], data=data).round(3))"
   ]
  }
 ],
 "metadata": {
  "kernelspec": {
   "display_name": "Python 3.8.10 ('py3')",
   "language": "python",
   "name": "python3"
  },
  "language_info": {
   "codemirror_mode": {
    "name": "ipython",
    "version": 3
   },
   "file_extension": ".py",
   "mimetype": "text/x-python",
   "name": "python",
   "nbconvert_exporter": "python",
   "pygments_lexer": "ipython3",
   "version": "3.8.10 (default, Jun  4 2021, 15:09:15) \n[GCC 7.5.0]"
  },
  "orig_nbformat": 4,
  "vscode": {
   "interpreter": {
    "hash": "026a2e0de64d16e4261b338391046de2222e48854e49c02150b0bae443d24681"
   }
  }
 },
 "nbformat": 4,
 "nbformat_minor": 2
}
